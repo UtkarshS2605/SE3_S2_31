{
 "cells": [
  {
   "cell_type": "markdown",
   "metadata": {},
   "source": [
    "**Utkarsh Vikas Sawant S2-31**"
   ]
  },
  {
   "cell_type": "code",
   "execution_count": 2,
   "metadata": {},
   "outputs": [
    {
     "name": "stdout",
     "output_type": "stream",
     "text": [
      "Maximum nesting depth is: 3\n"
     ]
    }
   ],
   "source": [
    "class StackDepth:\n",
    "    def maximumDepth(self, stringInput: str) -> int:\n",
    "        current_depth = 0 \n",
    "        max_depth = 0  \n",
    "\n",
    "    \n",
    "        for char in stringInput:\n",
    "            if char == '(': \n",
    "                current_depth += 1\n",
    "                max_depth = max(max_depth, current_depth) \n",
    "            elif char == ')':  \n",
    "                current_depth -= 1\n",
    "        \n",
    "        return max_depth  \n",
    "\n",
    "\n",
    "stringInput = input(\"Enter a string with parentheses: \")\n",
    "\n",
    "\n",
    "stack_depth = StackDepth()\n",
    "print(\"Maximum nesting depth is:\", stack_depth.maximumDepth(stringInput))\n",
    "\n"
   ]
  },
  {
   "cell_type": "code",
   "execution_count": null,
   "metadata": {},
   "outputs": [],
   "source": []
  }
 ],
 "metadata": {
  "kernelspec": {
   "display_name": "Python 3",
   "language": "python",
   "name": "python3"
  },
  "language_info": {
   "codemirror_mode": {
    "name": "ipython",
    "version": 3
   },
   "file_extension": ".py",
   "mimetype": "text/x-python",
   "name": "python",
   "nbconvert_exporter": "python",
   "pygments_lexer": "ipython3",
   "version": "3.11.9"
  }
 },
 "nbformat": 4,
 "nbformat_minor": 2
}
