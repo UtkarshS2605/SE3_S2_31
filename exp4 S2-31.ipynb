{
 "cells": [
  {
   "cell_type": "markdown",
   "id": "2851ec46",
   "metadata": {},
   "source": [
    "**Utkarsh Vikas Sawant S2-31**"
   ]
  },
  {
   "cell_type": "code",
   "execution_count": 34,
   "id": "6fd8ceac",
   "metadata": {},
   "outputs": [],
   "source": [
    "from contextlib import contextmanager\n",
    "\n",
    "@contextmanager\n",
    "def genericFileFunction(filename, method):\n",
    "    file = open(filename, method)\n",
    "    yield file\n",
    "    file.close()\n",
    "    "
   ]
  },
  {
   "cell_type": "code",
   "execution_count": 35,
   "id": "8de8b1a3-3457-422d-bc1e-de079eb827d6",
   "metadata": {},
   "outputs": [],
   "source": [
    "if __name__ == '__main__':\n",
    "    file_name = \"sample04.txt\""
   ]
  },
  {
   "cell_type": "code",
   "execution_count": 36,
   "id": "ab45ea72-a811-494c-a62c-2570610947cd",
   "metadata": {},
   "outputs": [],
   "source": [
    "with genericFileFunction(file_name, \"w\") as file:\n",
    "        file.write(\"Hi my name is Utkarsh\")"
   ]
  },
  {
   "cell_type": "code",
   "execution_count": 37,
   "id": "c27e838b-437b-4c13-b6f5-73c3cfebd474",
   "metadata": {},
   "outputs": [
    {
     "name": "stdout",
     "output_type": "stream",
     "text": [
      "File after writing:\n",
      "Hi my name is Utkarsh\n"
     ]
    }
   ],
   "source": [
    "with genericFileFunction(file_name, \"r\") as file:\n",
    "        print(\"File after writing:\")\n",
    "        print(file.read())"
   ]
  },
  {
   "cell_type": "code",
   "execution_count": 38,
   "id": "3f7bed54-d26e-4cff-92bb-d39ce91e3781",
   "metadata": {},
   "outputs": [],
   "source": [
    "with genericFileFunction(file_name, \"a\") as file:\n",
    "        file.write(\"\\nI am studying in VCET\")"
   ]
  },
  {
   "cell_type": "code",
   "execution_count": 39,
   "id": "715bdbf2-c0f0-4395-82c9-81110003ff0c",
   "metadata": {},
   "outputs": [
    {
     "name": "stdout",
     "output_type": "stream",
     "text": [
      "\n",
      "File after appending:\n",
      "Hi my name is Utkarsh\n",
      "I am studying in VCET\n"
     ]
    }
   ],
   "source": [
    " with genericFileFunction(file_name, \"r\") as file:\n",
    "        print(\"\\nFile after appending:\")\n",
    "        print(file.read())\n"
   ]
  },
  {
   "cell_type": "code",
   "execution_count": 40,
   "id": "1fe25fbd-eac3-44ea-9500-63a23a060d32",
   "metadata": {},
   "outputs": [
    {
     "name": "stdout",
     "output_type": "stream",
     "text": [
      "File after writing:\n",
      "Hi my name is Utkarsh\n",
      "I am studying in VCET\n"
     ]
    }
   ],
   "source": [
    "with genericFileFunction(file_name, \"r\") as file:\n",
    "        print(\"File after writing:\")\n",
    "        print(file.read())"
   ]
  },
  {
   "cell_type": "code",
   "execution_count": null,
   "id": "6ca0ac8c-aa67-43ea-a574-30d85d69ac6a",
   "metadata": {},
   "outputs": [],
   "source": []
  },
  {
   "cell_type": "code",
   "execution_count": null,
   "id": "9389f7e5",
   "metadata": {},
   "outputs": [],
   "source": []
  },
  {
   "cell_type": "code",
   "execution_count": null,
   "id": "282a0608",
   "metadata": {},
   "outputs": [],
   "source": []
  }
 ],
 "metadata": {
  "kernelspec": {
   "display_name": "Python 3",
   "language": "python",
   "name": "python3"
  },
  "language_info": {
   "codemirror_mode": {
    "name": "ipython",
    "version": 3
   },
   "file_extension": ".py",
   "mimetype": "text/x-python",
   "name": "python",
   "nbconvert_exporter": "python",
   "pygments_lexer": "ipython3",
   "version": "3.11.9"
  }
 },
 "nbformat": 4,
 "nbformat_minor": 5
}
