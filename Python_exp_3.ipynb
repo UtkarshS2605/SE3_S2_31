{
  "cells": [
    {
      "cell_type": "code",
      "execution_count": null,
      "id": "a7c26a94-3ddb-49a4-b363-8b0058978f08",
      "metadata": {
        "id": "a7c26a94-3ddb-49a4-b363-8b0058978f08"
      },
      "outputs": [],
      "source": [
        "'''\n",
        "Given a string 's' consisting of only the characters 'a' and 'b', return true if every 'a' appears before every 'b' in the string.\n",
        "Otherwise, return false.\n",
        "\n",
        "Example 1:\n",
        "Input: s = \"aaabbb\"\n",
        "Output: true\n",
        "Explanation:\n",
        "The 'a's are at indices 0, 1, and 2, while the 'b's are at indices 3, 4, and 5.\n",
        "Hence, every 'a' appears before every 'b' and we return true.\n",
        "\n",
        "Example 2:\n",
        "Input: s = \"abab\"\n",
        "Output: false\n",
        "Explanation:\n",
        "There is an 'a' at index 2 and a 'b' at index 1.\n",
        "Hence, not every 'a' appears before every 'b' and we return false.\n",
        "\n",
        "Example 3:\n",
        "Input: s = \"bbb\"\n",
        "Output: true\n",
        "Explanation:\n",
        "There are no 'a's, hence, every 'a' appears before every 'b' and we return true.\n",
        "'''"
      ]
    },
    {
      "cell_type": "code",
      "execution_count": 3,
      "id": "a47fe35c-3daa-4bf5-b252-6c47b51d7abd",
      "metadata": {
        "colab": {
          "base_uri": "https://localhost:8080/"
        },
        "id": "a47fe35c-3daa-4bf5-b252-6c47b51d7abd",
        "outputId": "048e8f2d-5a7e-41c8-ee70-48b91ab9f010"
      },
      "outputs": [
        {
          "output_type": "execute_result",
          "data": {
            "text/plain": [
              "True"
            ]
          },
          "metadata": {},
          "execution_count": 3
        }
      ],
      "source": [
        "def find_a(s):\n",
        "    for i in range(len(s)):\n",
        "        if s[i] == 'a':\n",
        "            a_index = i\n",
        "        else: pass\n",
        "    return a_index\n",
        "\n",
        "\n",
        "def checkString (s : str) -> bool:\n",
        "    if len(s) == 0:\n",
        "        return True\n",
        "    else:\n",
        "        if 'a' not in s:\n",
        "            return True\n",
        "        elif 'b' not in s:\n",
        "            return False\n",
        "        a_index = find_a(s)\n",
        "        if a_index < s.index('b'):\n",
        "            return True\n",
        "        else:\n",
        "            return False\n",
        "\n",
        "checkString(\"aababb\")\n",
        "checkString(\"bbb\")"
      ]
    },
    {
      "cell_type": "code",
      "execution_count": null,
      "id": "b38a887d-6851-4bf1-a103-62b50c043d8a",
      "metadata": {
        "id": "b38a887d-6851-4bf1-a103-62b50c043d8a"
      },
      "outputs": [],
      "source": []
    }
  ],
  "metadata": {
    "kernelspec": {
      "display_name": "Python 3 (ipykernel)",
      "language": "python",
      "name": "python3"
    },
    "language_info": {
      "codemirror_mode": {
        "name": "ipython",
        "version": 3
      },
      "file_extension": ".py",
      "mimetype": "text/x-python",
      "name": "python",
      "nbconvert_exporter": "python",
      "pygments_lexer": "ipython3",
      "version": "3.11.5"
    },
    "colab": {
      "provenance": []
    }
  },
  "nbformat": 4,
  "nbformat_minor": 5
}